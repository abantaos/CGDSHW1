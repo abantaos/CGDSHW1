{
 "cells": [
  {
   "cell_type": "code",
   "execution_count": 1,
   "metadata": {},
   "outputs": [
    {
     "name": "stdout",
     "output_type": "stream",
     "text": [
      "Help on built-in function print in module builtins:\n",
      "\n",
      "print(...)\n",
      "    print(value, ..., sep=' ', end='\\n', file=sys.stdout, flush=False)\n",
      "    \n",
      "    Prints the values to a stream, or to sys.stdout by default.\n",
      "    Optional keyword arguments:\n",
      "    file:  a file-like object (stream); defaults to the current sys.stdout.\n",
      "    sep:   string inserted between values, default a space.\n",
      "    end:   string appended after the last value, default a newline.\n",
      "    flush: whether to forcibly flush the stream.\n",
      "\n"
     ]
    }
   ],
   "source": [
    "# How can you get more information about a function or an object from inside a jupyter cell?\n",
    "\n",
    "help(print)"
   ]
  },
  {
   "cell_type": "code",
   "execution_count": 2,
   "metadata": {},
   "outputs": [
    {
     "data": {
      "text/plain": [
       "int"
      ]
     },
     "execution_count": 2,
     "metadata": {},
     "output_type": "execute_result"
    }
   ],
   "source": [
    "# How can you determine the data type of an object?\n",
    "\n",
    "s = 1\n",
    "type(s)"
   ]
  },
  {
   "cell_type": "code",
   "execution_count": 3,
   "metadata": {},
   "outputs": [
    {
     "name": "stdout",
     "output_type": "stream",
     "text": [
      "bar\n"
     ]
    }
   ],
   "source": [
    "# Assign a variable named foo and give it a value of 'bar'. Oh, and what is assignment?\n",
    "\n",
    "foo = \"bar\"\n",
    "print(foo)\n",
    "# Giving value to variable"
   ]
  },
  {
   "cell_type": "code",
   "execution_count": 4,
   "metadata": {},
   "outputs": [],
   "source": [
    "# What is a data structure in another language that is not built into python?\n",
    "# Does python have a similar data structure that may serve the same purpose?\n",
    "\n",
    "#Hashmap in Java vs Dictionary in Python"
   ]
  },
  {
   "cell_type": "code",
   "execution_count": 5,
   "metadata": {},
   "outputs": [
    {
     "name": "stdout",
     "output_type": "stream",
     "text": [
      "['a', 'ab', 'abc']\n"
     ]
    }
   ],
   "source": [
    "# You have an assortment of items you will need to keep track of.\n",
    "# What would be a good data structure to keep them in? Provide an example.\n",
    "\n",
    "list = [\"a\", \"ab\", \"abc\"]\n",
    "print(list)"
   ]
  },
  {
   "cell_type": "code",
   "execution_count": 7,
   "metadata": {
    "scrolled": true
   },
   "outputs": [
    {
     "name": "stdout",
     "output_type": "stream",
     "text": [
      "{'PersonA': 123456789, 'PersonB': 234567891, 'PersonC': 345678912}\n"
     ]
    }
   ],
   "source": [
    "# You have an assortment of names and telephone numbers.\n",
    "# What might be a good data structure to keep them in? Show an example.\n",
    "\n",
    "namesAndNumbers = {\n",
    "    \"PersonA\": 123456789,\n",
    "    \"PersonB\": 234567891,\n",
    "    \"PersonC\": 345678912\n",
    "}\n",
    "\n",
    "print(namesAndNumbers)"
   ]
  },
  {
   "cell_type": "code",
   "execution_count": 9,
   "metadata": {},
   "outputs": [
    {
     "name": "stdout",
     "output_type": "stream",
     "text": [
      "[9, 2, 3]\n",
      "[9, 2, 3]\n"
     ]
    }
   ],
   "source": [
    "# You need to create a copy of an important list and alter the copy.\n",
    "# Why is the following code a bad idea?\n",
    "\n",
    "list1 = [1,2,3]\n",
    "list2 = list1\n",
    "list2[0]= 9\n",
    "\n",
    "print(list1)\n",
    "print(list2)\n",
    "\n",
    "# You only want to alter list2. This syntax will also alter list1."
   ]
  },
  {
   "cell_type": "code",
   "execution_count": 10,
   "metadata": {},
   "outputs": [],
   "source": [
    "# What is truthy and falsey? Provide a list example and a string example.\n",
    "\n",
    "# Boolean True\n",
    "# Boolean False"
   ]
  },
  {
   "cell_type": "code",
   "execution_count": 11,
   "metadata": {},
   "outputs": [],
   "source": [
    "# What is the difference between a dynamically typed and statically typed language?\n",
    "    # Dynamic checks type at runtime.\n",
    "    # Static checks type at compile time.\n",
    "# Which one is python?\n",
    "    # Dynamic.\n",
    "# When is that a good thing?\n",
    "    # Speed - Don't need to write type of each variable\n",
    "# When is that a bad thing?\n",
    "    # Misinterpret type"
   ]
  },
  {
   "cell_type": "code",
   "execution_count": 16,
   "metadata": {},
   "outputs": [
    {
     "name": "stdout",
     "output_type": "stream",
     "text": [
      "0b1000\n",
      "8.0\n"
     ]
    }
   ],
   "source": [
    "# Here is a link to the python built-in functions.\n",
    "# Choose 2 and give an example of how to use them.\n",
    "\n",
    "print(bin(8)) # Converts number to binary\n",
    "print(float(8)) # Converts number to float"
   ]
  },
  {
   "cell_type": "code",
   "execution_count": 17,
   "metadata": {},
   "outputs": [],
   "source": [
    "# I need to know if an integer is odd or even. What operator might help me do that?\n",
    "\n",
    "# Modulus % 1 Odd\n",
    "# Modulus % 0 Even"
   ]
  },
  {
   "cell_type": "code",
   "execution_count": 18,
   "metadata": {},
   "outputs": [],
   "source": [
    "# What is an operator?\n",
    "\n",
    "# Performs an operation: +, //, <="
   ]
  },
  {
   "cell_type": "code",
   "execution_count": 19,
   "metadata": {},
   "outputs": [],
   "source": [
    "# What is a data type in another language does not exist in python?\n",
    "    # Double in Java\n",
    "# Does python have a similar data type?\n",
    "    # Float"
   ]
  },
  {
   "cell_type": "code",
   "execution_count": null,
   "metadata": {},
   "outputs": [],
   "source": [
    "# What is a python expression? And what does it evalute to?\n",
    "    # uses operands. (2+ 2 = 4)"
   ]
  },
  {
   "cell_type": "code",
   "execution_count": 20,
   "metadata": {},
   "outputs": [
    {
     "data": {
      "text/plain": [
       "True"
      ]
     },
     "execution_count": 20,
     "metadata": {},
     "output_type": "execute_result"
    }
   ],
   "source": [
    "# Provide an expression that evaluates which variable is greater.\n",
    "# (Hint: you can just test them and don't need to say which is greater)\n",
    " \n",
    "foo = 23\n",
    "bar = 48\n",
    "\n",
    "(foo < bar)"
   ]
  },
  {
   "cell_type": "code",
   "execution_count": 37,
   "metadata": {},
   "outputs": [
    {
     "name": "stdout",
     "output_type": "stream",
     "text": [
      "odd\n",
      "even\n",
      "three\n",
      "even\n",
      "odd\n",
      "even\n",
      "odd\n",
      "even\n",
      "odd\n"
     ]
    }
   ],
   "source": [
    "# Provide an if statement (inside the provided for loop) that prints\n",
    "# 'even' if the number is even, 'odd' if the number is odd and 'three' if the number is 3.\n",
    "\n",
    "my_list = [1,2,3,4,5,6,7,8,9]\n",
    "for i in my_list:\n",
    "    \n",
    "#    pass\n",
    "    #Your if statement goes here.\n",
    "    #Be sure to indent the statement\n",
    "    #And delete the word 'pass'\n",
    "    \n",
    "    if i == 3:\n",
    "        print(\"three\")\n",
    "    elif (i%2) == 0:\n",
    "        print(\"even\")\n",
    "    else:\n",
    "        print(\"odd\")\n"
   ]
  },
  {
   "cell_type": "code",
   "execution_count": 38,
   "metadata": {},
   "outputs": [
    {
     "name": "stdout",
     "output_type": "stream",
     "text": [
      "False\n"
     ]
    }
   ],
   "source": [
    "# What is the equal operator? # comment it out And show an example of how it is used.\n",
    "\n",
    "x = 8\n",
    "y = 2\n",
    "print(x == y)"
   ]
  },
  {
   "cell_type": "code",
   "execution_count": 39,
   "metadata": {},
   "outputs": [
    {
     "name": "stdout",
     "output_type": "stream",
     "text": [
      "True\n"
     ]
    }
   ],
   "source": [
    "# What is the less than equal to operator? And show an example of how it is used.\n",
    "\n",
    "print(y < x)"
   ]
  },
  {
   "cell_type": "code",
   "execution_count": 42,
   "metadata": {},
   "outputs": [
    {
     "name": "stdout",
     "output_type": "stream",
     "text": [
      "0\n"
     ]
    }
   ],
   "source": [
    "# What is the modulo remainder operator? And show an example of how it is used.\n",
    "\n",
    "print(x%y) # 8 / 2 leaves remainder 0"
   ]
  },
  {
   "cell_type": "code",
   "execution_count": 43,
   "metadata": {},
   "outputs": [
    {
     "name": "stdout",
     "output_type": "stream",
     "text": [
      "12\n"
     ]
    }
   ],
   "source": [
    "# What is the floored division operator? And show an example of how it is used.\n",
    "\n",
    "m = 25\n",
    "n = 2\n",
    "\n",
    "print(m//n) # Rounds result down to the nearest whole number"
   ]
  },
  {
   "cell_type": "code",
   "execution_count": 44,
   "metadata": {},
   "outputs": [],
   "source": [
    "# Why is this assigment not a good idea? (Hint: focus on the word hex)\n",
    "# hex = 'some text value'\n",
    "# hex is a built-in method that returns float as hexadecimal string"
   ]
  },
  {
   "cell_type": "code",
   "execution_count": 50,
   "metadata": {},
   "outputs": [],
   "source": [
    "# Why does the following give an error? Show an example of how to fix it.\n",
    "# 2cars = ('Ferarri', 'Mustang')\n",
    "\n",
    "# Variable cannot start with number. Instead, use TwoCars or cars2."
   ]
  },
  {
   "cell_type": "code",
   "execution_count": 51,
   "metadata": {},
   "outputs": [
    {
     "name": "stdout",
     "output_type": "stream",
     "text": [
      "Hooray!\n"
     ]
    }
   ],
   "source": [
    "#Why does this if statement evaluate to true?\n",
    "#You will see this shortcut a lot and it can be confusing as to what is going on.\n",
    "\n",
    "\n",
    "some_list = ['fizz','buzz',1,{'key':'value'}]\n",
    "\n",
    "if some_list:\n",
    "    print('Hooray!')\n",
    "\n",
    "# If the list exists (it does) print Hooray."
   ]
  },
  {
   "cell_type": "code",
   "execution_count": 52,
   "metadata": {},
   "outputs": [
    {
     "data": {
      "text/plain": [
       "10"
      ]
     },
     "execution_count": 52,
     "metadata": {},
     "output_type": "execute_result"
    }
   ],
   "source": [
    "# Write an expression that adds two numbers.\n",
    "\n",
    "x + y"
   ]
  },
  {
   "cell_type": "code",
   "execution_count": 53,
   "metadata": {},
   "outputs": [
    {
     "data": {
      "text/plain": [
       "4.0"
      ]
     },
     "execution_count": 53,
     "metadata": {},
     "output_type": "execute_result"
    }
   ],
   "source": [
    "# Write an expression that divides two numbers.\n",
    "\n",
    "x / y"
   ]
  },
  {
   "cell_type": "code",
   "execution_count": 55,
   "metadata": {},
   "outputs": [
    {
     "data": {
      "text/plain": [
       "8"
      ]
     },
     "execution_count": 55,
     "metadata": {},
     "output_type": "execute_result"
    }
   ],
   "source": [
    "# Write an expression that raises one number to the power of 3.\n",
    "y ** 3"
   ]
  },
  {
   "cell_type": "code",
   "execution_count": 57,
   "metadata": {},
   "outputs": [],
   "source": [
    "# You've been asked to do some semi-avanced mathematics and create a report.\n",
    "# What module might you import to help make your job easier?\n",
    "# Import this module below. (Hint: It's part of the Python Standard Library)\n",
    "\n",
    "import math"
   ]
  },
  {
   "cell_type": "code",
   "execution_count": 63,
   "metadata": {},
   "outputs": [
    {
     "name": "stdout",
     "output_type": "stream",
     "text": [
      "<class 'int'>\n",
      "<class 'str'>\n"
     ]
    }
   ],
   "source": [
    "# How can you change my_var form an int to a str?\n",
    "\n",
    "my_var = 42\n",
    "my_var_str = str(my_var)\n",
    "\n",
    "print(type(my_var))\n",
    "print(type(my_var_str))"
   ]
  },
  {
   "cell_type": "code",
   "execution_count": 70,
   "metadata": {},
   "outputs": [
    {
     "name": "stdout",
     "output_type": "stream",
     "text": [
      "36\n",
      "lazy\n"
     ]
    }
   ],
   "source": [
    "# Slice some_string to only include the words lazy.\n",
    "\n",
    "some_string = \"The quick brown fox jumped over the lazy dog.\"\n",
    "\n",
    "print(some_string.index(\"lazy\"))\n",
    "print(some_string[36:40])"
   ]
  },
  {
   "cell_type": "code",
   "execution_count": 75,
   "metadata": {},
   "outputs": [
    {
     "name": "stdout",
     "output_type": "stream",
     "text": [
      "['Chiefs', 'Cardinals', 'Sport', 'Blues', 'Lakers', 'Manchester United', 'Couch Surfing']\n"
     ]
    }
   ],
   "source": [
    "# Assign a new variable sport to the 3rd element in the list.\n",
    "\n",
    "my_favorite_teams= ['Chiefs', 'Cardinals', 'Blues', 'Lakers','Manchester United', 'Couch Surfing']\n",
    "my_favorite_teams.insert(2, 'Sport')\n",
    "print(my_favorite_teams)"
   ]
  },
  {
   "cell_type": "code",
   "execution_count": 78,
   "metadata": {},
   "outputs": [
    {
     "name": "stdout",
     "output_type": "stream",
     "text": [
      "16\n"
     ]
    }
   ],
   "source": [
    "# Write a function that takes in a number and doubles it.\n",
    "\n",
    "doubleX = 2 * x\n",
    "print(doubleX)"
   ]
  },
  {
   "cell_type": "code",
   "execution_count": 80,
   "metadata": {},
   "outputs": [
    {
     "data": {
      "text/plain": [
       "['__doc__',\n",
       " '__loader__',\n",
       " '__name__',\n",
       " '__package__',\n",
       " '__spec__',\n",
       " 'acos',\n",
       " 'acosh',\n",
       " 'asin',\n",
       " 'asinh',\n",
       " 'atan',\n",
       " 'atan2',\n",
       " 'atanh',\n",
       " 'ceil',\n",
       " 'copysign',\n",
       " 'cos',\n",
       " 'cosh',\n",
       " 'degrees',\n",
       " 'e',\n",
       " 'erf',\n",
       " 'erfc',\n",
       " 'exp',\n",
       " 'expm1',\n",
       " 'fabs',\n",
       " 'factorial',\n",
       " 'floor',\n",
       " 'fmod',\n",
       " 'frexp',\n",
       " 'fsum',\n",
       " 'gamma',\n",
       " 'gcd',\n",
       " 'hypot',\n",
       " 'inf',\n",
       " 'isclose',\n",
       " 'isfinite',\n",
       " 'isinf',\n",
       " 'isnan',\n",
       " 'ldexp',\n",
       " 'lgamma',\n",
       " 'log',\n",
       " 'log10',\n",
       " 'log1p',\n",
       " 'log2',\n",
       " 'modf',\n",
       " 'nan',\n",
       " 'pi',\n",
       " 'pow',\n",
       " 'radians',\n",
       " 'remainder',\n",
       " 'sin',\n",
       " 'sinh',\n",
       " 'sqrt',\n",
       " 'tan',\n",
       " 'tanh',\n",
       " 'tau',\n",
       " 'trunc']"
      ]
     },
     "execution_count": 80,
     "metadata": {},
     "output_type": "execute_result"
    }
   ],
   "source": [
    "# What is the use case for the dir() method?\n",
    "\n",
    "# lists methods for the module that has been imported\n",
    "\n",
    "dir(math)"
   ]
  },
  {
   "cell_type": "code",
   "execution_count": 82,
   "metadata": {},
   "outputs": [
    {
     "name": "stdout",
     "output_type": "stream",
     "text": [
      "?em esrever uoy naC\n"
     ]
    }
   ],
   "source": [
    "#Reverse the following string using only slicing methods.\n",
    "\n",
    "irreversible = \"Can you reverse me?\"\n",
    "\n",
    "stringLength = len(irreversible) # What is the length of the string\n",
    "stringSliced = irreversible[stringLength::-1]\n",
    "print(stringSliced)"
   ]
  }
 ],
 "metadata": {
  "kernelspec": {
   "display_name": "Python 3",
   "language": "python",
   "name": "python3"
  },
  "language_info": {
   "codemirror_mode": {
    "name": "ipython",
    "version": 3
   },
   "file_extension": ".py",
   "mimetype": "text/x-python",
   "name": "python",
   "nbconvert_exporter": "python",
   "pygments_lexer": "ipython3",
   "version": "3.7.8"
  }
 },
 "nbformat": 4,
 "nbformat_minor": 4
}
